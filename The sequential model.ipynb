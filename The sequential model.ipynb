{
  "nbformat": 4,
  "nbformat_minor": 0,
  "metadata": {
    "colab": {
      "provenance": []
    },
    "kernelspec": {
      "name": "python3",
      "display_name": "Python 3"
    },
    "language_info": {
      "name": "python"
    }
  },
  "cells": [
    {
      "cell_type": "code",
      "execution_count": 1,
      "metadata": {
        "id": "yv98Arf2gJrh"
      },
      "outputs": [],
      "source": [
        "#sequntial model\n",
        "import tensorflow as tf\n",
        "import keras\n",
        "from keras import layers\n"
      ]
    },
    {
      "cell_type": "code",
      "source": [
        "#Define sequential model with 3 layers\n",
        "model=keras.Sequential(\n",
        "    [\n",
        "        layers.Dense(2,activation=\"relu\",name=\"layer1\"),\n",
        "        layers.Dense(3,activation=\"relu\",name=\"layer2\"),\n",
        "        layers.Dense(4,name=\"layer3\")\n",
        "    ]\n",
        ")\n",
        "x=tf.ones((3,3))\n",
        "y=model(x)"
      ],
      "metadata": {
        "id": "bIZH2fqlhmIa"
      },
      "execution_count": 4,
      "outputs": []
    },
    {
      "cell_type": "code",
      "source": [
        "#This is also the other way of activation\n",
        "layer1=layers.Dense(2,activation=\"relu\",name=\"layer1\")\n",
        "layer2=layers.Dense(3,activation=\"relu\",name=\"layer2\")\n",
        "layer3=layers.Dense(4,name=\"layer3\")\n",
        "x=tf.ones((3,3))\n",
        "y=layer3(layer2(layer1(x)))"
      ],
      "metadata": {
        "id": "NB1jH8SyiibR"
      },
      "execution_count": 5,
      "outputs": []
    },
    {
      "cell_type": "code",
      "source": [
        "#creating a sequential model\n",
        "\n",
        "model=keras.Sequential(\n",
        "    [\n",
        "        layers.Dense(2,activation=\"relu\"),\n",
        "        layers.Dense(3,activation=\"relu\"),\n",
        "        layers.Dense(4,name=\"layer3\")\n",
        "    ]\n",
        ")"
      ],
      "metadata": {
        "id": "AnCz9b7EjxvL"
      },
      "execution_count": 6,
      "outputs": []
    },
    {
      "cell_type": "code",
      "source": [
        "#layers to be accesible\n",
        "\n",
        "\n",
        "model.layers"
      ],
      "metadata": {
        "colab": {
          "base_uri": "https://localhost:8080/"
        },
        "id": "sep39VZRkJ00",
        "outputId": "773a5a3e-adc7-40b4-db2e-34026fdeaf18"
      },
      "execution_count": 7,
      "outputs": [
        {
          "output_type": "execute_result",
          "data": {
            "text/plain": [
              "[<keras.src.layers.core.dense.Dense at 0x7effe954afe0>,\n",
              " <keras.src.layers.core.dense.Dense at 0x7effe954aa40>,\n",
              " <keras.src.layers.core.dense.Dense at 0x7effe954b6d0>]"
            ]
          },
          "metadata": {},
          "execution_count": 7
        }
      ]
    },
    {
      "cell_type": "code",
      "source": [
        "#create a sequential model incrementaly via the add() method\n",
        "\n",
        "model=keras.Sequential()\n",
        "model.add(layers.Dense(2,activation=\"relu\"))\n",
        "model.add(layers.Dense(3,activation=\"relu\"))\n",
        "model.add(layers.Dense(4))"
      ],
      "metadata": {
        "id": "AEMb9vvjkfH5"
      },
      "execution_count": 9,
      "outputs": []
    },
    {
      "cell_type": "code",
      "source": [
        "model.layers"
      ],
      "metadata": {
        "colab": {
          "base_uri": "https://localhost:8080/"
        },
        "id": "n4cNmFvnlPfg",
        "outputId": "12af62e1-0f0e-42da-9dfa-e83f8e320d78"
      },
      "execution_count": 10,
      "outputs": [
        {
          "output_type": "execute_result",
          "data": {
            "text/plain": [
              "[<keras.src.layers.core.dense.Dense at 0x7effe97a28f0>,\n",
              " <keras.src.layers.core.dense.Dense at 0x7effe97a1cf0>,\n",
              " <keras.src.layers.core.dense.Dense at 0x7effe97a1b70>]"
            ]
          },
          "metadata": {},
          "execution_count": 10
        }
      ]
    },
    {
      "cell_type": "code",
      "source": [
        "print(len(model.layers))"
      ],
      "metadata": {
        "colab": {
          "base_uri": "https://localhost:8080/"
        },
        "id": "zATeBeyhlZMz",
        "outputId": "72b9e5ce-6f23-4473-e28d-859437460bed"
      },
      "execution_count": 11,
      "outputs": [
        {
          "output_type": "stream",
          "name": "stdout",
          "text": [
            "3\n"
          ]
        }
      ]
    },
    {
      "cell_type": "code",
      "source": [
        "model.pop()\n",
        "print(len(model.layers))"
      ],
      "metadata": {
        "colab": {
          "base_uri": "https://localhost:8080/"
        },
        "id": "AIS8gaoElVGq",
        "outputId": "43f9d4a4-afbd-48dd-c0f2-44df36258196"
      },
      "execution_count": 12,
      "outputs": [
        {
          "output_type": "stream",
          "name": "stdout",
          "text": [
            "2\n"
          ]
        }
      ]
    },
    {
      "cell_type": "code",
      "source": [
        "#Sequential constructor accepts a name argument\n",
        "\n",
        "model=keras.Sequential(name=\"my_sequential\")\n",
        "model.add(layers.Dense(2,activation=\"relu\",name=\"layer2\"))\n",
        "model.add(layers.Dense(3,activation=\"relu\",name=\"layer3\"))\n",
        "model.add(layers.Dense(4,name=\"layer5\"))\n"
      ],
      "metadata": {
        "id": "dMUIjGoBljRi"
      },
      "execution_count": 13,
      "outputs": []
    },
    {
      "cell_type": "code",
      "source": [
        "model.build(input_shape=(1, 4))"
      ],
      "metadata": {
        "id": "VRgN6HbdmXwc"
      },
      "execution_count": 23,
      "outputs": []
    },
    {
      "cell_type": "code",
      "source": [
        "model.summary()"
      ],
      "metadata": {
        "colab": {
          "base_uri": "https://localhost:8080/"
        },
        "id": "K5j9y3cbmTvR",
        "outputId": "001e35b6-e138-45eb-fb63-758f97145ead"
      },
      "execution_count": 24,
      "outputs": [
        {
          "output_type": "stream",
          "name": "stdout",
          "text": [
            "Model: \"my_sequential\"\n",
            "_________________________________________________________________\n",
            " Layer (type)                Output Shape              Param #   \n",
            "=================================================================\n",
            " layer2 (Dense)              (1, 2)                    22        \n",
            "                                                                 \n",
            " layer3 (Dense)              (1, 3)                    9         \n",
            "                                                                 \n",
            " layer5 (Dense)              (1, 4)                    16        \n",
            "                                                                 \n",
            "=================================================================\n",
            "Total params: 47 (188.00 Byte)\n",
            "Trainable params: 47 (188.00 Byte)\n",
            "Non-trainable params: 0 (0.00 Byte)\n",
            "_________________________________________________________________\n"
          ]
        }
      ]
    },
    {
      "cell_type": "code",
      "source": [
        "layer=layers.Dense(3)"
      ],
      "metadata": {
        "id": "oVVtXX6WmzM0"
      },
      "execution_count": 18,
      "outputs": []
    },
    {
      "cell_type": "code",
      "source": [
        "layer.weights"
      ],
      "metadata": {
        "colab": {
          "base_uri": "https://localhost:8080/"
        },
        "id": "Ea1AMOS-nHW_",
        "outputId": "0f7a0122-9ef7-4645-c630-8110624bda87"
      },
      "execution_count": 19,
      "outputs": [
        {
          "output_type": "execute_result",
          "data": {
            "text/plain": [
              "[]"
            ]
          },
          "metadata": {},
          "execution_count": 19
        }
      ]
    },
    {
      "cell_type": "code",
      "source": [
        "#call layer on a test input\n",
        "x=tf.ones((1,4))\n",
        "y=layer(x)\n",
        "layer.weights"
      ],
      "metadata": {
        "colab": {
          "base_uri": "https://localhost:8080/"
        },
        "id": "C8DpQ0uGnI7b",
        "outputId": "70736512-5388-450e-ebc8-81f0b5ff40c5"
      },
      "execution_count": 20,
      "outputs": [
        {
          "output_type": "execute_result",
          "data": {
            "text/plain": [
              "[<tf.Variable 'dense_6/kernel:0' shape=(4, 3) dtype=float32, numpy=\n",
              " array([[ 0.81787384,  0.9189143 , -0.2575633 ],\n",
              "        [-0.34946865, -0.72843206,  0.10284793],\n",
              "        [-0.7202252 , -0.79735875, -0.5798439 ],\n",
              "        [ 0.00910282,  0.68880546, -0.41900784]], dtype=float32)>,\n",
              " <tf.Variable 'dense_6/bias:0' shape=(3,) dtype=float32, numpy=array([0., 0., 0.], dtype=float32)>]"
            ]
          },
          "metadata": {},
          "execution_count": 20
        }
      ]
    },
    {
      "cell_type": "code",
      "source": [
        "len(model.weights)"
      ],
      "metadata": {
        "colab": {
          "base_uri": "https://localhost:8080/"
        },
        "id": "FApEFjxcnZa5",
        "outputId": "ffc7c9eb-a830-4620-d624-d0d8cd890ed9"
      },
      "execution_count": 21,
      "outputs": [
        {
          "output_type": "execute_result",
          "data": {
            "text/plain": [
              "6"
            ]
          },
          "metadata": {},
          "execution_count": 21
        }
      ]
    },
    {
      "cell_type": "code",
      "source": [
        "model.summary()"
      ],
      "metadata": {
        "colab": {
          "base_uri": "https://localhost:8080/"
        },
        "id": "ZQwuKqR3n7HN",
        "outputId": "61cc3243-dc5e-41f8-e7ef-5557d69bddcc"
      },
      "execution_count": 22,
      "outputs": [
        {
          "output_type": "stream",
          "name": "stdout",
          "text": [
            "Model: \"my_sequential\"\n",
            "_________________________________________________________________\n",
            " Layer (type)                Output Shape              Param #   \n",
            "=================================================================\n",
            " layer2 (Dense)              (1, 2)                    22        \n",
            "                                                                 \n",
            " layer3 (Dense)              (1, 3)                    9         \n",
            "                                                                 \n",
            " layer5 (Dense)              (1, 4)                    16        \n",
            "                                                                 \n",
            "=================================================================\n",
            "Total params: 47 (188.00 Byte)\n",
            "Trainable params: 47 (188.00 Byte)\n",
            "Non-trainable params: 0 (0.00 Byte)\n",
            "_________________________________________________________________\n"
          ]
        }
      ]
    },
    {
      "cell_type": "code",
      "source": [],
      "metadata": {
        "id": "0Vev1HZ-o0YD"
      },
      "execution_count": null,
      "outputs": []
    }
  ]
}