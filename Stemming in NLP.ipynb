{
  "nbformat": 4,
  "nbformat_minor": 0,
  "metadata": {
    "colab": {
      "provenance": []
    },
    "kernelspec": {
      "name": "python3",
      "display_name": "Python 3"
    },
    "language_info": {
      "name": "python"
    }
  },
  "cells": [
    {
      "cell_type": "markdown",
      "source": [
        "**Stemming:**reduces the word to its word stem.it affixes to suffixes and prefixes (or) roots of words known as lemma"
      ],
      "metadata": {
        "id": "WdUJ6qltXpjw"
      }
    },
    {
      "cell_type": "code",
      "execution_count": null,
      "metadata": {
        "colab": {
          "base_uri": "https://localhost:8080/",
          "height": 36
        },
        "id": "qOEhYeODVgWp",
        "outputId": "6aa83f52-dfc5-49a4-9d73-31bf8a58f2db"
      },
      "outputs": [
        {
          "output_type": "execute_result",
          "data": {
            "text/plain": [
              "'danc'"
            ],
            "application/vnd.google.colaboratory.intrinsic+json": {
              "type": "string"
            }
          },
          "metadata": {},
          "execution_count": 11
        }
      ],
      "source": [
        "\n",
        "#Porter stemmer---suffixes, such as “-s”, “-es”, “-ies”, “-ed”, and “-d”.\n",
        "import nltk\n",
        "from nltk.stem import PorterStemmer\n",
        "stemming=PorterStemmer()\n",
        "word=\"danced\"\n",
        "stemming.stem(word)\n"
      ]
    },
    {
      "cell_type": "code",
      "source": [
        "\n",
        "#porter stemmer-- suffixes “ative”, “alize”, “iciti”, and “ical”\n",
        "import nltk\n",
        "from nltk.stem import PorterStemmer\n",
        "stemming=PorterStemmer()\n",
        "word=\"relative\"\n",
        "stemming.stem(word)\n"
      ],
      "metadata": {
        "colab": {
          "base_uri": "https://localhost:8080/",
          "height": 36
        },
        "id": "OSbM_YTiZthy",
        "outputId": "905b3db1-47eb-4373-8fdf-b07a07904d00"
      },
      "execution_count": null,
      "outputs": [
        {
          "output_type": "execute_result",
          "data": {
            "text/plain": [
              "'rel'"
            ],
            "application/vnd.google.colaboratory.intrinsic+json": {
              "type": "string"
            }
          },
          "metadata": {},
          "execution_count": 12
        }
      ]
    },
    {
      "cell_type": "code",
      "source": [
        "#porter stemmer--suffixes “ful”, “ness”, “ment”, and “ize”.\n",
        "import nltk\n",
        "from nltk.stem import PorterStemmer\n",
        "stemming=PorterStemmer()\n",
        "word=\"happiness\"\n",
        "stemming.stem(word)\n"
      ],
      "metadata": {
        "colab": {
          "base_uri": "https://localhost:8080/",
          "height": 36
        },
        "id": "ZNt3qrPhbF7_",
        "outputId": "2cc3acba-0d3c-4109-d5f7-19026ab72027"
      },
      "execution_count": null,
      "outputs": [
        {
          "output_type": "execute_result",
          "data": {
            "text/plain": [
              "'happi'"
            ],
            "application/vnd.google.colaboratory.intrinsic+json": {
              "type": "string"
            }
          },
          "metadata": {},
          "execution_count": 13
        }
      ]
    },
    {
      "cell_type": "code",
      "source": [
        "#porter stemmer--suffixes “al”, “ance”, “ence”, “er”, “ic”, “able”, “ible”, “ant”, “ement”, “ment”, “ent”, and “ism”\n",
        "import nltk\n",
        "from nltk.stem import PorterStemmer\n",
        "stemming=PorterStemmer()\n",
        "word=\"replacement”\"\n",
        "stemming.stem(word)"
      ],
      "metadata": {
        "colab": {
          "base_uri": "https://localhost:8080/",
          "height": 36
        },
        "id": "yal22wT2bU4Q",
        "outputId": "768873e4-3b08-4a13-d918-c812c5fc9567"
      },
      "execution_count": null,
      "outputs": [
        {
          "output_type": "execute_result",
          "data": {
            "text/plain": [
              "'replacement”'"
            ],
            "application/vnd.google.colaboratory.intrinsic+json": {
              "type": "string"
            }
          },
          "metadata": {},
          "execution_count": 17
        }
      ]
    },
    {
      "cell_type": "code",
      "source": [
        "#Lancaster Stemmer--suffixes “ful”, “ness”, “ment”, and “ize”.\n",
        "import nltk\n",
        "from nltk.stem import LancasterStemmer\n",
        "stemming=LancasterStemmer()\n",
        "word=\"happiness\"\n",
        "stemming.stem(word)"
      ],
      "metadata": {
        "colab": {
          "base_uri": "https://localhost:8080/",
          "height": 36
        },
        "id": "szlAo9H8cBdw",
        "outputId": "5ee38865-c216-4eb1-d1a0-43f08f420920"
      },
      "execution_count": null,
      "outputs": [
        {
          "output_type": "execute_result",
          "data": {
            "text/plain": [
              "'happy'"
            ],
            "application/vnd.google.colaboratory.intrinsic+json": {
              "type": "string"
            }
          },
          "metadata": {},
          "execution_count": 18
        }
      ]
    },
    {
      "cell_type": "markdown",
      "source": [
        "Removes all the invaliad words by LancasterStemmer.For example, the stem “happy” produced by the Lancaster stemmer for the word “happy” is not a valid word."
      ],
      "metadata": {
        "id": "gFw5FySocQTG"
      }
    },
    {
      "cell_type": "code",
      "source": [
        "#regular expression stemmer\n",
        "from nltk.stem import RegexpStemmer\n",
        "reg_stemmer=RegexpStemmer('ing$|s$|e$|able$', min=4)\n",
        "reg_stemmer.stem(\"eating\")"
      ],
      "metadata": {
        "colab": {
          "base_uri": "https://localhost:8080/",
          "height": 36
        },
        "id": "uYQOHsWGcWR4",
        "outputId": "4e89df73-e8b7-4fe0-8ca9-b23c1698c047"
      },
      "execution_count": null,
      "outputs": [
        {
          "output_type": "execute_result",
          "data": {
            "text/plain": [
              "'eat'"
            ],
            "application/vnd.google.colaboratory.intrinsic+json": {
              "type": "string"
            }
          },
          "metadata": {},
          "execution_count": 22
        }
      ]
    },
    {
      "cell_type": "code",
      "source": [
        "#regular expression stemmer\n",
        "from nltk.stem import RegexpStemmer\n",
        "reg_stemmer=RegexpStemmer('ing$|s$|e$|able$', min=4)\n",
        "reg_stemmer.stem(\"runs\")"
      ],
      "metadata": {
        "colab": {
          "base_uri": "https://localhost:8080/",
          "height": 36
        },
        "id": "XwzofyR5doeL",
        "outputId": "8bd5b3c4-f448-4584-bead-3fdfdfbc8bf2"
      },
      "execution_count": null,
      "outputs": [
        {
          "output_type": "execute_result",
          "data": {
            "text/plain": [
              "'run'"
            ],
            "application/vnd.google.colaboratory.intrinsic+json": {
              "type": "string"
            }
          },
          "metadata": {},
          "execution_count": 23
        }
      ]
    },
    {
      "cell_type": "code",
      "source": [
        "#regular expression stemmer---because the min length of stem should be greather than 4\n",
        "from nltk.stem import RegexpStemmer\n",
        "reg_stemmer=RegexpStemmer('ing$|s$|e$|able$', min=4)\n",
        "reg_stemmer.stem(\"ran\")"
      ],
      "metadata": {
        "colab": {
          "base_uri": "https://localhost:8080/",
          "height": 36
        },
        "id": "HFy68AwidtSP",
        "outputId": "641eb98f-287c-47e0-e49e-d75f444270f4"
      },
      "execution_count": null,
      "outputs": [
        {
          "output_type": "execute_result",
          "data": {
            "text/plain": [
              "'ran'"
            ],
            "application/vnd.google.colaboratory.intrinsic+json": {
              "type": "string"
            }
          },
          "metadata": {},
          "execution_count": 24
        }
      ]
    },
    {
      "cell_type": "code",
      "source": [
        "#snowball stemmer\n",
        "nltk.download('snowball_data')\n",
        "from nltk.stem import SnowballStemmer\n",
        "SnowballStemmer(\"english\")"
      ],
      "metadata": {
        "colab": {
          "base_uri": "https://localhost:8080/"
        },
        "id": "HK1zzBBkd3sE",
        "outputId": "effe102b-fe6f-4f60-d063-535510ee836b"
      },
      "execution_count": null,
      "outputs": [
        {
          "output_type": "stream",
          "name": "stderr",
          "text": [
            "[nltk_data] Downloading package snowball_data to /root/nltk_data...\n"
          ]
        },
        {
          "output_type": "execute_result",
          "data": {
            "text/plain": [
              "<nltk.stem.snowball.SnowballStemmer at 0x79db7b8f23e0>"
            ]
          },
          "metadata": {},
          "execution_count": 26
        }
      ]
    },
    {
      "cell_type": "code",
      "source": [
        "# snowball stemmer applied to arabic language\n",
        "from nltk.stem import SnowballStemmer\n",
        "stemmer = SnowballStemmer(\"arabic\")\n",
        "stemmed_word = stemmer.stem(\"تماما\")\n",
        "print(stemmed_word)"
      ],
      "metadata": {
        "colab": {
          "base_uri": "https://localhost:8080/"
        },
        "id": "iubmiDsqel3v",
        "outputId": "0beef356-6cbb-4399-c8fa-f32aadd132b4"
      },
      "execution_count": null,
      "outputs": [
        {
          "output_type": "stream",
          "name": "stdout",
          "text": [
            "تمام\n"
          ]
        }
      ]
    }
  ]
}