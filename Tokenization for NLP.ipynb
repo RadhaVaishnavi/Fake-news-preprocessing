{
  "nbformat": 4,
  "nbformat_minor": 0,
  "metadata": {
    "colab": {
      "provenance": []
    },
    "kernelspec": {
      "name": "python3",
      "display_name": "Python 3"
    },
    "language_info": {
      "name": "python"
    }
  },
  "cells": [
    {
      "cell_type": "code",
      "execution_count": null,
      "metadata": {
        "id": "aMiXl0jtRA1j"
      },
      "outputs": [],
      "source": [
        "tweet=\"Seek wealth, not money or status. Wealth is having assets that earn while you sleep. Money is how we transfer time and wealth. Status is your place in the social hierarchy.\""
      ]
    },
    {
      "cell_type": "code",
      "source": [
        "tweet"
      ],
      "metadata": {
        "colab": {
          "base_uri": "https://localhost:8080/",
          "height": 54
        },
        "id": "r_VaLzptRK83",
        "outputId": "2cd717ee-3763-4996-c03e-03c18cc67f09"
      },
      "execution_count": null,
      "outputs": [
        {
          "output_type": "execute_result",
          "data": {
            "text/plain": [
              "'Seek wealth, not money or status. Wealth is having assets that earn while you sleep. Money is how we transfer time and wealth. Status is your place in the social hierarchy.'"
            ],
            "application/vnd.google.colaboratory.intrinsic+json": {
              "type": "string"
            }
          },
          "metadata": {},
          "execution_count": 2
        }
      ]
    },
    {
      "cell_type": "code",
      "source": [
        "! pip install nltk"
      ],
      "metadata": {
        "colab": {
          "base_uri": "https://localhost:8080/"
        },
        "id": "SBwycC1pRYjl",
        "outputId": "f11742e1-77fb-45df-a73b-7abac15c5b4e"
      },
      "execution_count": null,
      "outputs": [
        {
          "output_type": "stream",
          "name": "stdout",
          "text": [
            "Requirement already satisfied: nltk in /usr/local/lib/python3.10/dist-packages (3.8.1)\n",
            "Requirement already satisfied: click in /usr/local/lib/python3.10/dist-packages (from nltk) (8.1.7)\n",
            "Requirement already satisfied: joblib in /usr/local/lib/python3.10/dist-packages (from nltk) (1.3.2)\n",
            "Requirement already satisfied: regex>=2021.8.3 in /usr/local/lib/python3.10/dist-packages (from nltk) (2023.12.25)\n",
            "Requirement already satisfied: tqdm in /usr/local/lib/python3.10/dist-packages (from nltk) (4.66.2)\n"
          ]
        }
      ]
    },
    {
      "cell_type": "code",
      "source": [
        "\n",
        "# word tokenization\n",
        "print(tweet.split())\n",
        "print(f\"# tokens: {len(tweet.split())}\")"
      ],
      "metadata": {
        "colab": {
          "base_uri": "https://localhost:8080/"
        },
        "id": "aV0mqrLsRec0",
        "outputId": "2c7363ac-cdaf-41d2-932e-a9966e224e06"
      },
      "execution_count": null,
      "outputs": [
        {
          "output_type": "stream",
          "name": "stdout",
          "text": [
            "['Seek', 'wealth,', 'not', 'money', 'or', 'status.', 'Wealth', 'is', 'having', 'assets', 'that', 'earn', 'while', 'you', 'sleep.', 'Money', 'is', 'how', 'we', 'transfer', 'time', 'and', 'wealth.', 'Status', 'is', 'your', 'place', 'in', 'the', 'social', 'hierarchy.']\n",
            "# tokens: 31\n"
          ]
        }
      ]
    },
    {
      "cell_type": "code",
      "source": [
        "from nltk.tokenize import sent_tokenize\n",
        "sent_tok=sent_tokenize(tweet)\n",
        "sent_tok"
      ],
      "metadata": {
        "colab": {
          "base_uri": "https://localhost:8080/"
        },
        "id": "nIoZxOlnRzyX",
        "outputId": "8e765470-51a8-4790-c93d-a3c20bce71ee"
      },
      "execution_count": null,
      "outputs": [
        {
          "output_type": "execute_result",
          "data": {
            "text/plain": [
              "['Seek wealth, not money or status.',\n",
              " 'Wealth is having assets that earn while you sleep.',\n",
              " 'Money is how we transfer time and wealth.',\n",
              " 'Status is your place in the social hierarchy.']"
            ]
          },
          "metadata": {},
          "execution_count": 13
        }
      ]
    },
    {
      "cell_type": "code",
      "source": [
        "import nltk\n",
        "from nltk.tokenize import word_tokenize\n",
        "nltk.download('punkt')\n",
        "word_tok=word_tokenize(tweet)\n",
        "print(word_tok)\n",
        "print(len(word_tok))"
      ],
      "metadata": {
        "colab": {
          "base_uri": "https://localhost:8080/"
        },
        "id": "p-9xkSDERouF",
        "outputId": "d6b931db-0264-4ced-ba3f-b46ef02c64f6"
      },
      "execution_count": null,
      "outputs": [
        {
          "output_type": "stream",
          "name": "stdout",
          "text": [
            "['Seek', 'wealth', ',', 'not', 'money', 'or', 'status', '.', 'Wealth', 'is', 'having', 'assets', 'that', 'earn', 'while', 'you', 'sleep', '.', 'Money', 'is', 'how', 'we', 'transfer', 'time', 'and', 'wealth', '.', 'Status', 'is', 'your', 'place', 'in', 'the', 'social', 'hierarchy', '.']\n",
            "36\n"
          ]
        },
        {
          "output_type": "stream",
          "name": "stderr",
          "text": [
            "[nltk_data] Downloading package punkt to /root/nltk_data...\n",
            "[nltk_data]   Package punkt is already up-to-date!\n"
          ]
        }
      ]
    },
    {
      "cell_type": "code",
      "source": [
        "\n",
        "\n",
        "# import\n",
        "from nltk.tokenize import TreebankWordTokenizer\n",
        "\n",
        "# word tokenization\n",
        "word_tokenizer = TreebankWordTokenizer()\n",
        "print(word_tokenizer.tokenize(tweet))\n",
        "print(f\"# tokens: {len(word_tokenizer.tokenize(tweet))}\")"
      ],
      "metadata": {
        "colab": {
          "base_uri": "https://localhost:8080/"
        },
        "id": "KOAxmc5MT6Fz",
        "outputId": "883796e3-c8bb-485a-8d03-cca630a18cde"
      },
      "execution_count": null,
      "outputs": [
        {
          "output_type": "stream",
          "name": "stdout",
          "text": [
            "['Seek', 'wealth', ',', 'not', 'money', 'or', 'status.', 'Wealth', 'is', 'having', 'assets', 'that', 'earn', 'while', 'you', 'sleep.', 'Money', 'is', 'how', 'we', 'transfer', 'time', 'and', 'wealth.', 'Status', 'is', 'your', 'place', 'in', 'the', 'social', 'hierarchy', '.']\n",
            "# tokens: 33\n"
          ]
        }
      ]
    },
    {
      "cell_type": "code",
      "source": [
        "\n",
        "\n",
        "# import\n",
        "from nltk.tokenize import WordPunctTokenizer\n",
        "\n",
        "# word tokenization\n",
        "word_tokenizer = WordPunctTokenizer()\n",
        "print(word_tokenizer.tokenize(tweet))\n",
        "print(f\"# tokens: {len(word_tokenizer.tokenize(tweet))}\")"
      ],
      "metadata": {
        "colab": {
          "base_uri": "https://localhost:8080/"
        },
        "id": "xiqn17u9Ubp_",
        "outputId": "311bb8a6-5ade-4187-8672-c0b58f858a2b"
      },
      "execution_count": null,
      "outputs": [
        {
          "output_type": "stream",
          "name": "stdout",
          "text": [
            "['Seek', 'wealth', ',', 'not', 'money', 'or', 'status', '.', 'Wealth', 'is', 'having', 'assets', 'that', 'earn', 'while', 'you', 'sleep', '.', 'Money', 'is', 'how', 'we', 'transfer', 'time', 'and', 'wealth', '.', 'Status', 'is', 'your', 'place', 'in', 'the', 'social', 'hierarchy', '.']\n",
            "# tokens: 36\n"
          ]
        }
      ]
    },
    {
      "cell_type": "code",
      "source": [
        "\n",
        "# import\n",
        "from nltk.tokenize import PunktSentenceTokenizer\n",
        "\n",
        "# word tokenization\n",
        "word_tokenizer = PunktSentenceTokenizer()\n",
        "print(word_tokenizer.tokenize(tweet))\n",
        "print(f\"# tokens: {len(word_tokenizer.tokenize(tweet))}\")"
      ],
      "metadata": {
        "colab": {
          "base_uri": "https://localhost:8080/"
        },
        "id": "25ixN5bXVvXQ",
        "outputId": "103ab968-b7c5-4878-b024-4a34443d2343"
      },
      "execution_count": null,
      "outputs": [
        {
          "output_type": "stream",
          "name": "stdout",
          "text": [
            "['Seek wealth, not money or status.', 'Wealth is having assets that earn while you sleep.', 'Money is how we transfer time and wealth.', 'Status is your place in the social hierarchy.']\n",
            "# tokens: 4\n"
          ]
        }
      ]
    },
    {
      "cell_type": "code",
      "source": [
        "PunktSentenceTokenizer"
      ],
      "metadata": {
        "id": "dQJ0CK9IVvEt"
      },
      "execution_count": null,
      "outputs": []
    }
  ]
}